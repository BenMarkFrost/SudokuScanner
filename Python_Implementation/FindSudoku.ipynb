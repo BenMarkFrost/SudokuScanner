{
 "cells": [
  {
   "cell_type": "code",
   "execution_count": 6,
   "metadata": {},
   "outputs": [],
   "source": [
    "import cv2\n",
    "import tensorflow\n",
    "import imutils"
   ]
  },
  {
   "cell_type": "code",
   "execution_count": 32,
   "metadata": {},
   "outputs": [],
   "source": [
    "def findSudoku(img):\n",
    "    img = imutils.resize(img, width=1000)\n",
    "    \n",
    "\n",
    "    gray = cv2.cvtColor(img, cv2.COLOR_BGR2GRAY)\n",
    "    blur = cv2.GaussianBlur(gray, (3,3), 2)\n",
    "    \n",
    "    threshold  = cv2.adaptiveThreshold(blur, 255, cv2.ADAPTIVE_THRESH_GAUSSIAN_C, cv2.THRESH_BINARY, 11, 2)\n",
    "    threshold = cv2.bitwise_not(threshold)\n",
    "    \n",
    "    contours = cv2.findContours(threshold.copy(), cv2.RETR_EXTERNAL, cv2.CHAIN_APPROX_SIMPLE)\n",
    "    contours = imutils.grab_contours(contours)\n",
    "    contours = sorted(contours, key=cv2.contourArea, reverse=True)\n",
    "    \n",
    "    boundingBox = None\n",
    "    \n",
    "    for contour in contours:\n",
    "        outsideLength = cv2.arcLength(contour, True)\n",
    "        approx = cv2.approxPolyDP(contour, 0.02 * outsideLength, True)\n",
    "        \n",
    "        if len(approx) == 4:\n",
    "            boundingBox = approx\n",
    "            break\n",
    "    \n",
    "    if boundingBox is None:\n",
    "        print(\"FindSudoku: No sudoku found\")\n",
    "        \n",
    "    print(boundingBox)\n",
    "    \n",
    "    cv2.drawContours(img, boundingBox, -1, (255,0,255), 2)\n",
    "    cv2.imshow(\"Bounding Box\", img)\n",
    "    cv2.waitKey(0)\n",
    "    cv2.destroyAllWindows()\n"
   ]
  },
  {
   "cell_type": "code",
   "execution_count": 33,
   "metadata": {},
   "outputs": [
    {
     "name": "stdout",
     "output_type": "stream",
     "text": [
      "[[[365 167]]\n",
      "\n",
      " [[263 555]]\n",
      "\n",
      " [[622 619]]\n",
      "\n",
      " [[667 216]]]\n"
     ]
    }
   ],
   "source": [
    "findSudoku(cv2.imread(\"../../Images/Sudoku1.png\"))"
   ]
  },
  {
   "cell_type": "code",
   "execution_count": null,
   "metadata": {},
   "outputs": [],
   "source": []
  }
 ],
 "metadata": {
  "kernelspec": {
   "display_name": "Python 3",
   "language": "python",
   "name": "python3"
  },
  "language_info": {
   "codemirror_mode": {
    "name": "ipython",
    "version": 3
   },
   "file_extension": ".py",
   "mimetype": "text/x-python",
   "name": "python",
   "nbconvert_exporter": "python",
   "pygments_lexer": "ipython3",
   "version": "3.8.5"
  }
 },
 "nbformat": 4,
 "nbformat_minor": 4
}
